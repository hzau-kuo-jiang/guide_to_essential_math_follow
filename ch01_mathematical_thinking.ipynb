{
 "cells": [
  {
   "cell_type": "markdown",
   "source": [
    "## 1.2 Gauss and the Arithmetic Series"
   ],
   "metadata": {
    "collapsed": false
   },
   "id": "caed96d002cb1a30"
  },
  {
   "cell_type": "code",
   "execution_count": 28,
   "id": "initial_id",
   "metadata": {
    "collapsed": true,
    "ExecuteTime": {
     "end_time": "2023-10-01T14:44:19.975249Z",
     "start_time": "2023-10-01T14:44:19.896978900Z"
    }
   },
   "outputs": [],
   "source": [
    "def arithmetic_series_sum(a, l, n):\n",
    "    return (n / 2) * (a + l)"
   ]
  },
  {
   "cell_type": "code",
   "execution_count": 29,
   "outputs": [
    {
     "name": "stdout",
     "output_type": "stream",
     "text": [
      "5050.0\n"
     ]
    }
   ],
   "source": [
    "print(arithmetic_series_sum(1, 100, 100))"
   ],
   "metadata": {
    "collapsed": false,
    "ExecuteTime": {
     "end_time": "2023-10-01T14:44:20.066346Z",
     "start_time": "2023-10-01T14:44:19.917223700Z"
    }
   },
   "id": "96f04cca96fcb63c"
  },
  {
   "cell_type": "code",
   "execution_count": 30,
   "outputs": [
    {
     "name": "stdout",
     "output_type": "stream",
     "text": [
      "117.0\n"
     ]
    }
   ],
   "source": [
    "print(arithmetic_series_sum(1, 25, 9))"
   ],
   "metadata": {
    "collapsed": false,
    "ExecuteTime": {
     "end_time": "2023-10-01T14:44:20.067344100Z",
     "start_time": "2023-10-01T14:44:19.932239700Z"
    }
   },
   "id": "5d7a2d038e170831"
  },
  {
   "cell_type": "markdown",
   "source": [
    "## 1.3 Torus Area and Volume"
   ],
   "metadata": {
    "collapsed": false
   },
   "id": "e2727e71a45e4f3a"
  },
  {
   "cell_type": "code",
   "execution_count": 31,
   "outputs": [],
   "source": [
    "import math"
   ],
   "metadata": {
    "collapsed": false,
    "ExecuteTime": {
     "end_time": "2023-10-01T14:44:20.067344100Z",
     "start_time": "2023-10-01T14:44:19.948220500Z"
    }
   },
   "id": "d8bb1e6ed4a92048"
  },
  {
   "cell_type": "code",
   "execution_count": 32,
   "outputs": [],
   "source": [
    "def first_theorem_of_pappus(arc_length, centroid_distance):\n",
    "    return arc_length * centroid_distance"
   ],
   "metadata": {
    "collapsed": false,
    "ExecuteTime": {
     "end_time": "2023-10-01T14:44:20.068345300Z",
     "start_time": "2023-10-01T14:44:19.962218500Z"
    }
   },
   "id": "11d32615be72a199"
  },
  {
   "cell_type": "code",
   "execution_count": 33,
   "outputs": [],
   "source": [
    "def second_theorem_of_pappus(area, centroid_distance):\n",
    "    return area * centroid_distance"
   ],
   "metadata": {
    "collapsed": false,
    "ExecuteTime": {
     "end_time": "2023-10-01T14:44:20.068345300Z",
     "start_time": "2023-10-01T14:44:19.979219600Z"
    }
   },
   "id": "c0b64e86f3953fb4"
  },
  {
   "cell_type": "code",
   "execution_count": 34,
   "outputs": [],
   "source": [
    "def torus_area(inner_radius, outer_radius):\n",
    "    arc_length = 2 * math.pi * inner_radius\n",
    "    centroid_distance = 2 * math.pi * outer_radius\n",
    "    return first_theorem_of_pappus(arc_length, centroid_distance)"
   ],
   "metadata": {
    "collapsed": false,
    "ExecuteTime": {
     "end_time": "2023-10-01T14:44:20.068345300Z",
     "start_time": "2023-10-01T14:44:19.995277700Z"
    }
   },
   "id": "da46255f6e67bf1d"
  },
  {
   "cell_type": "code",
   "execution_count": 35,
   "outputs": [],
   "source": [
    "def torus_volume(inner_radius, outer_radius):\n",
    "    area = math.pi * inner_radius ** 2\n",
    "    centroid_distance = 2 * math.pi * outer_radius\n",
    "    return second_theorem_of_pappus(area, centroid_distance)"
   ],
   "metadata": {
    "collapsed": false,
    "ExecuteTime": {
     "end_time": "2023-10-01T14:44:20.068345300Z",
     "start_time": "2023-10-01T14:44:20.010347300Z"
    }
   },
   "id": "ed2acf5a3d18c8fe"
  },
  {
   "cell_type": "code",
   "execution_count": 36,
   "outputs": [
    {
     "name": "stdout",
     "output_type": "stream",
     "text": [
      "78.95683520871486\n"
     ]
    }
   ],
   "source": [
    "print(torus_area(1, 2))"
   ],
   "metadata": {
    "collapsed": false,
    "ExecuteTime": {
     "end_time": "2023-10-01T14:44:20.069344700Z",
     "start_time": "2023-10-01T14:44:20.025533800Z"
    }
   },
   "id": "e2702e32a760e388"
  },
  {
   "cell_type": "code",
   "execution_count": 37,
   "outputs": [
    {
     "name": "stdout",
     "output_type": "stream",
     "text": [
      "39.47841760435743\n"
     ]
    }
   ],
   "source": [
    "print(torus_volume(1, 2))"
   ],
   "metadata": {
    "collapsed": false,
    "ExecuteTime": {
     "end_time": "2023-10-01T14:44:20.069344700Z",
     "start_time": "2023-10-01T14:44:20.041346700Z"
    }
   },
   "id": "40d9b40a0b06fdcd"
  }
 ],
 "metadata": {
  "kernelspec": {
   "display_name": "Python 3",
   "language": "python",
   "name": "python3"
  },
  "language_info": {
   "codemirror_mode": {
    "name": "ipython",
    "version": 2
   },
   "file_extension": ".py",
   "mimetype": "text/x-python",
   "name": "python",
   "nbconvert_exporter": "python",
   "pygments_lexer": "ipython2",
   "version": "2.7.6"
  }
 },
 "nbformat": 4,
 "nbformat_minor": 5
}
