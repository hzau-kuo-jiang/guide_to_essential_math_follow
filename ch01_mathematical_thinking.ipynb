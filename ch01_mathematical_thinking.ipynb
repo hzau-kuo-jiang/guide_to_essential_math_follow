{
 "cells": [
  {
   "cell_type": "markdown",
   "id": "caed96d002cb1a30",
   "metadata": {
    "collapsed": false
   },
   "source": [
    "## 1.2 Gauss and the Arithmetic Series"
   ]
  },
  {
   "cell_type": "markdown",
   "source": [
    "$$\n",
    "S_{n}=\\frac{n}{2}(a+\\iota)\n",
    "$$"
   ],
   "metadata": {
    "collapsed": false
   },
   "id": "ebe9ed4fdcd4ba1c"
  },
  {
   "cell_type": "code",
   "execution_count": 101,
   "id": "initial_id",
   "metadata": {
    "collapsed": true,
    "jupyter": {
     "outputs_hidden": true
    },
    "ExecuteTime": {
     "end_time": "2023-10-01T19:05:40.658792500Z",
     "start_time": "2023-10-01T19:05:40.555994100Z"
    }
   },
   "outputs": [],
   "source": [
    "def arithmetic_series_sum(a, l, n):\n",
    "    return (n / 2) * (a + l)"
   ]
  },
  {
   "cell_type": "code",
   "execution_count": 102,
   "id": "96f04cca96fcb63c",
   "metadata": {
    "collapsed": false,
    "ExecuteTime": {
     "end_time": "2023-10-01T19:05:40.705306900Z",
     "start_time": "2023-10-01T19:05:40.564993900Z"
    }
   },
   "outputs": [
    {
     "name": "stdout",
     "output_type": "stream",
     "text": [
      "5050.0\n"
     ]
    }
   ],
   "source": [
    "print(arithmetic_series_sum(1, 100, 100))"
   ]
  },
  {
   "cell_type": "markdown",
   "id": "a2d5516c3a6f462",
   "metadata": {
    "collapsed": false
   },
   "source": [
    "Problem 1.2.1"
   ]
  },
  {
   "cell_type": "code",
   "execution_count": 103,
   "id": "5d7a2d038e170831",
   "metadata": {
    "collapsed": false,
    "ExecuteTime": {
     "end_time": "2023-10-01T19:05:40.705306900Z",
     "start_time": "2023-10-01T19:05:40.581000200Z"
    }
   },
   "outputs": [
    {
     "name": "stdout",
     "output_type": "stream",
     "text": [
      "117.0\n"
     ]
    }
   ],
   "source": [
    "print(arithmetic_series_sum(1, 25, 9))"
   ]
  },
  {
   "cell_type": "markdown",
   "id": "e2727e71a45e4f3a",
   "metadata": {
    "collapsed": false
   },
   "source": [
    "## 1.4 Torus Area and Volume"
   ]
  },
  {
   "cell_type": "code",
   "execution_count": 104,
   "id": "d8bb1e6ed4a92048",
   "metadata": {
    "collapsed": false,
    "ExecuteTime": {
     "end_time": "2023-10-01T19:05:40.707309200Z",
     "start_time": "2023-10-01T19:05:40.597181600Z"
    }
   },
   "outputs": [],
   "source": [
    "import math"
   ]
  },
  {
   "cell_type": "code",
   "execution_count": 105,
   "id": "11d32615be72a199",
   "metadata": {
    "collapsed": false,
    "ExecuteTime": {
     "end_time": "2023-10-01T19:05:40.711306700Z",
     "start_time": "2023-10-01T19:05:40.612489300Z"
    }
   },
   "outputs": [],
   "source": [
    "def first_theorem_of_pappus(arc_length, centroid_distance):\n",
    "    return arc_length * centroid_distance"
   ]
  },
  {
   "cell_type": "code",
   "execution_count": 106,
   "id": "c0b64e86f3953fb4",
   "metadata": {
    "collapsed": false,
    "ExecuteTime": {
     "end_time": "2023-10-01T19:05:40.711306700Z",
     "start_time": "2023-10-01T19:05:40.627792300Z"
    }
   },
   "outputs": [],
   "source": [
    "def second_theorem_of_pappus(area, centroid_distance):\n",
    "    return area * centroid_distance"
   ]
  },
  {
   "cell_type": "markdown",
   "source": [
    "<hr style=\"height:1px;border:none;border-top:1px solid #ccc;\" />"
   ],
   "metadata": {
    "collapsed": false
   },
   "id": "5c19951d603673aa"
  },
  {
   "cell_type": "markdown",
   "source": [
    "$$\n",
    "A=2\\pi r\\cdot 2\\pi R=4\\pi^2 rR\n",
    "$$"
   ],
   "metadata": {
    "collapsed": false
   },
   "id": "46271a6aecb8406f"
  },
  {
   "cell_type": "code",
   "execution_count": 107,
   "id": "da46255f6e67bf1d",
   "metadata": {
    "collapsed": false,
    "ExecuteTime": {
     "end_time": "2023-10-01T19:05:40.712306800Z",
     "start_time": "2023-10-01T19:05:40.644792200Z"
    }
   },
   "outputs": [],
   "source": [
    "def torus_area(inner_radius, outer_radius):\n",
    "    arc_length = 2 * math.pi * inner_radius\n",
    "    centroid_distance = 2 * math.pi * outer_radius\n",
    "    return first_theorem_of_pappus(arc_length, centroid_distance)"
   ]
  },
  {
   "cell_type": "markdown",
   "source": [
    "<hr style=\"height:1px;border:none;border-top:1px solid #ccc;\" />"
   ],
   "metadata": {
    "collapsed": false
   },
   "id": "27851ae24d80492"
  },
  {
   "cell_type": "markdown",
   "source": [
    "$$\n",
    "V=\\pi r^2\\cdot 2\\pi R=2\\pi^2 r^2R\n",
    "$$"
   ],
   "metadata": {
    "collapsed": false
   },
   "id": "51bc2fc7c1427972"
  },
  {
   "cell_type": "code",
   "execution_count": 108,
   "id": "ed2acf5a3d18c8fe",
   "metadata": {
    "collapsed": false,
    "ExecuteTime": {
     "end_time": "2023-10-01T19:05:40.713306800Z",
     "start_time": "2023-10-01T19:05:40.659792200Z"
    }
   },
   "outputs": [],
   "source": [
    "def torus_volume(inner_radius, outer_radius):\n",
    "    area = math.pi * inner_radius ** 2\n",
    "    centroid_distance = 2 * math.pi * outer_radius\n",
    "    return second_theorem_of_pappus(area, centroid_distance)"
   ]
  },
  {
   "cell_type": "markdown",
   "source": [
    "<hr style=\"height:1px;border:none;border-top:1px solid #ccc;\" />"
   ],
   "metadata": {
    "collapsed": false
   },
   "id": "445a32a7fc061fcb"
  },
  {
   "cell_type": "code",
   "execution_count": 109,
   "id": "e2702e32a760e388",
   "metadata": {
    "collapsed": false,
    "ExecuteTime": {
     "end_time": "2023-10-01T19:05:40.713306800Z",
     "start_time": "2023-10-01T19:05:40.675793Z"
    }
   },
   "outputs": [
    {
     "name": "stdout",
     "output_type": "stream",
     "text": [
      "78.95683520871486\n"
     ]
    }
   ],
   "source": [
    "print(torus_area(1, 2))"
   ]
  },
  {
   "cell_type": "code",
   "execution_count": 110,
   "id": "40d9b40a0b06fdcd",
   "metadata": {
    "collapsed": false,
    "ExecuteTime": {
     "end_time": "2023-10-01T19:05:40.714304800Z",
     "start_time": "2023-10-01T19:05:40.691798Z"
    }
   },
   "outputs": [
    {
     "name": "stdout",
     "output_type": "stream",
     "text": [
      "39.47841760435743\n"
     ]
    }
   ],
   "source": [
    "print(torus_volume(1, 2))"
   ]
  },
  {
   "cell_type": "markdown",
   "id": "d3b8f30b76401014",
   "metadata": {
    "collapsed": false
   },
   "source": [
    "## 1.5 Einstein's Velocity Addition Law"
   ]
  },
  {
   "cell_type": "markdown",
   "source": [
    "$$\n",
    "V(v_1,v_2)=f(v_1,v_2)(v_1+v_2)\n",
    "$$\n"
   ],
   "metadata": {
    "collapsed": false
   },
   "id": "ce502ea0a348256e"
  },
  {
   "cell_type": "markdown",
   "source": [
    "$\n",
    "\\because\n",
    "$\n",
    "\n",
    "when $v_1=c$, $V(c,v_2)=c$\n",
    "\n",
    "$$\n",
    "f(c,v_2)=\\frac{c}{c+v_2}=\\frac{1}{1+\\frac{v_2}{c}}\n",
    "$$"
   ],
   "metadata": {
    "collapsed": false
   },
   "id": "9528123a3cef278f"
  },
  {
   "cell_type": "markdown",
   "source": [
    "when $v_2=c$, $V(v_1,c)=c$\n",
    "\n",
    "$$\n",
    "f(v_1,c)=\\frac{c}{v_1+c}=\\frac{1}{1+\\frac{v_1}{c}}\n",
    "$$"
   ],
   "metadata": {
    "collapsed": false
   },
   "id": "d9899b5d487df22f"
  },
  {
   "cell_type": "markdown",
   "source": [
    "when $v_1=v_2=c$, $V(c,c)=c$\n",
    "\n",
    "$$\n",
    "f(c,c)=\\frac{c}{c+c}=\\frac{1}{1+1}\n",
    "$$"
   ],
   "metadata": {
    "collapsed": false
   },
   "id": "f76a465b33c176f7"
  },
  {
   "cell_type": "markdown",
   "source": [
    "$\\therefore$\n",
    "\n",
    "$$\n",
    "f(v_1,v_2)=\\frac{1}{1+\\frac{v_1v_2}{c^2}}\n",
    "$$"
   ],
   "metadata": {
    "collapsed": false
   },
   "id": "76ae9ba7ad68882d"
  },
  {
   "cell_type": "markdown",
   "source": [
    "$$\n",
    "V(v_1,v_2)=\\frac{v_1+v_2}{1+\\frac{v_1v_2}{c^2}}\n",
    "$$"
   ],
   "metadata": {
    "collapsed": false
   },
   "id": "bf074c64b8d065a3"
  },
  {
   "cell_type": "markdown",
   "id": "db905103f18dabd7",
   "metadata": {
    "collapsed": false
   },
   "source": [
    "$$f(c,c)=\\frac{1}{1+1}$$"
   ]
  },
  {
   "cell_type": "markdown",
   "id": "3203e853493e9e7d",
   "metadata": {
    "collapsed": false
   },
   "source": [
    "## 1.6 The Birthday Problem"
   ]
  },
  {
   "cell_type": "markdown",
   "source": [
    "one year has 365 days\n",
    "\n",
    "n people have $365^n$ combinations"
   ],
   "metadata": {
    "collapsed": false
   },
   "id": "b345b5c5bb1578b6"
  },
  {
   "cell_type": "markdown",
   "id": "2921ef7619a0c6a4",
   "metadata": {
    "collapsed": false
   },
   "source": [
    "as many people as possible, have different birthdays\n",
    "\n",
    "first person has 366 choices $(366-0)$\n",
    "\n",
    "second person has 365 choices $(366-1)$\n",
    "\n",
    "$\\cdots$\n",
    "\n",
    "penultimate person has 366-n+2 choices $(366-(n-2))$\n",
    "\n",
    "last person has 366-n+1 choices $(366-(n-1))$"
   ]
  },
  {
   "cell_type": "markdown",
   "source": [
    "$\\because$\n",
    "\n",
    "total combinations\n",
    "<br>\n",
    "$= 366\\times 365\\times \\cdots \\times (366-n+2)\\times (366-n+1)$\n",
    "<br>\n",
    "$=\\frac{366\\times 365\\times \\cdots \\times (366-n+2)\\times (366-n+1)\\times (366-n)\\times \\cdots \\times 1}{(366-n)\\times \\cdots \\times 1}$\n",
    "<br>\n",
    "$=\\frac{366!}{(366-n)!}$"
   ],
   "metadata": {
    "collapsed": false
   },
   "id": "a31eb070a7d50141"
  },
  {
   "cell_type": "markdown",
   "source": [
    "$\\therefore$\n",
    "\n",
    "$$\n",
    "P(n)=1-\\frac{366!}{(366-n)!366^n}\n",
    "$$"
   ],
   "metadata": {
    "collapsed": false
   },
   "id": "e86ab8457552a67a"
  },
  {
   "cell_type": "code",
   "execution_count": 111,
   "id": "8774a6dfe17aed91",
   "metadata": {
    "collapsed": false,
    "ExecuteTime": {
     "end_time": "2023-10-01T19:05:40.724907800Z",
     "start_time": "2023-10-01T19:05:40.707309200Z"
    }
   },
   "outputs": [],
   "source": [
    "def birthday_problem(n):\n",
    "    return 1 - math.factorial(366) / math.factorial(366 - n) / 366 ** n"
   ]
  },
  {
   "cell_type": "code",
   "execution_count": 112,
   "id": "ec055950076a5532",
   "metadata": {
    "collapsed": false,
    "ExecuteTime": {
     "end_time": "2023-10-01T19:05:40.829390600Z",
     "start_time": "2023-10-01T19:05:40.721908300Z"
    }
   },
   "outputs": [
    {
     "name": "stdout",
     "output_type": "stream",
     "text": [
      "23\n"
     ]
    }
   ],
   "source": [
    "num = 1\n",
    "while birthday_problem(num) < 0.5:\n",
    "    num += 1\n",
    "print(num)"
   ]
  },
  {
   "cell_type": "markdown",
   "source": [
    "## 1.7 Fibonacci Numbers and the Golden Ratio"
   ],
   "metadata": {
    "collapsed": false
   },
   "id": "610adc964ef1f99a"
  },
  {
   "cell_type": "markdown",
   "source": [
    "$$\n",
    "0,1,1,2,3,5,8,13,21,34,55,89,144,\\cdots\n",
    "$$"
   ],
   "metadata": {
    "collapsed": false
   },
   "id": "79fc68e92603a7e3"
  },
  {
   "cell_type": "markdown",
   "source": [
    "$$\n",
    "F_{n+1}=F_n+F_{n-1}\n",
    "$$"
   ],
   "metadata": {
    "collapsed": false
   },
   "id": "3d77ba655746428f"
  },
  {
   "cell_type": "markdown",
   "source": [
    "$$\n",
    "\\lim_{n\\to\\infty}\\frac{F_{n+1}}{F_n}=\\phi\n",
    "$$\n",
    "\n",
    "$$\n",
    "\\lim_{n\\to\\infty}\\frac{F_{n}}{F_{n-1}}=\\phi\n",
    "$$"
   ],
   "metadata": {
    "collapsed": false
   },
   "id": "547e3f9f54946ae2"
  },
  {
   "cell_type": "markdown",
   "source": [
    "$\n",
    "\\because\n",
    "$\n",
    "\n",
    "$$\n",
    "F_{n+1}=F_n+F_{n-1}\n",
    "$$\n"
   ],
   "metadata": {
    "collapsed": false
   },
   "id": "cc89c44cab7a00cc"
  },
  {
   "cell_type": "markdown",
   "source": [
    "\n",
    "$\n",
    "\\therefore\n",
    "$\n",
    "\n",
    "$$\n",
    "\\frac{F_{n+1}}{F_n}=\\frac{F_n+F_{n-1}}{F_n}=1+\\frac{F_{n-1}}{F_n}\n",
    "$$\n"
   ],
   "metadata": {
    "collapsed": false
   },
   "id": "76cda91c9e064021"
  },
  {
   "cell_type": "markdown",
   "source": [
    "$\n",
    "\\therefore\n",
    "$\n",
    "\n",
    "$$\n",
    "\\phi=1+\\frac{1}{\\phi}\n",
    "$$"
   ],
   "metadata": {
    "collapsed": false
   },
   "id": "961045074d0125a"
  },
  {
   "cell_type": "markdown",
   "source": [
    "$\n",
    "\\therefore\n",
    "$\n",
    "\n",
    "$$\n",
    "\\phi^2-\\phi-1=0\n",
    "$$"
   ],
   "metadata": {
    "collapsed": false
   },
   "id": "c344e7b4eb5148c8"
  },
  {
   "cell_type": "markdown",
   "source": [
    "$\n",
    "\\therefore\n",
    "$\n",
    "\n",
    "$$\n",
    "\\phi=\\frac{1\\pm\\sqrt{5}}{2}\n",
    "$$"
   ],
   "metadata": {
    "collapsed": false
   },
   "id": "25eeedf13b2f5de6"
  },
  {
   "cell_type": "markdown",
   "source": [
    "$$\n",
    "\\vert\\phi\\vert=\\frac{1+\\sqrt{5}}{2}\\approx 1.618\n",
    "$$"
   ],
   "metadata": {
    "collapsed": false
   },
   "id": "7f37e02443064910"
  }
 ],
 "metadata": {
  "kernelspec": {
   "display_name": "Python 3 (ipykernel)",
   "language": "python",
   "name": "python3"
  },
  "language_info": {
   "codemirror_mode": {
    "name": "ipython",
    "version": 3
   },
   "file_extension": ".py",
   "mimetype": "text/x-python",
   "name": "python",
   "nbconvert_exporter": "python",
   "pygments_lexer": "ipython3",
   "version": "3.9.13"
  }
 },
 "nbformat": 4,
 "nbformat_minor": 5
}
