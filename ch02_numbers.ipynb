{
 "cells": [
  {
   "cell_type": "markdown",
   "source": [
    "## 2.2 Primes"
   ],
   "metadata": {
    "collapsed": false
   },
   "id": "c511b07818ed3535"
  },
  {
   "cell_type": "markdown",
   "source": [
    "Prove that there is no largest prime number."
   ],
   "metadata": {
    "collapsed": false
   },
   "id": "8c46eaceb3c5db3b"
  },
  {
   "cell_type": "markdown",
   "source": [
    "Euclid"
   ],
   "metadata": {
    "collapsed": false
   },
   "id": "1ee75ec2c7c59c8a"
  },
  {
   "cell_type": "markdown",
   "source": [
    "假设存在最大素数$p$，令$P$为所有素数的集合，$P=\\{p_1,p_2,\\cdots,p_n\\}$，其中$p_n$为最大素数，令$N=p_1p_2\\cdots p_n+1$。"
   ],
   "metadata": {
    "collapsed": false
   },
   "id": "724e44b23b2182a1"
  },
  {
   "cell_type": "markdown",
   "source": [
    "$1.$ 若$N$为素数，则$N$不在$P$中，与$P$为素数集合矛盾。"
   ],
   "metadata": {
    "collapsed": false
   },
   "id": "a52e3a321b875bf9"
  },
  {
   "cell_type": "markdown",
   "source": [
    "$2.$ 若$N$不为素数，则$N$必有素因子，记为$p$。即$N$能被$p$整除。"
   ],
   "metadata": {
    "collapsed": false
   },
   "id": "c67a1b11250cb4b"
  },
  {
   "cell_type": "markdown",
   "source": [
    "$2.1$ 由$N=p_1p_2\\cdots p_n+1$可知，$N$不能被$P$中任何一个素数整除，所以$p$不在$P$中。"
   ],
   "metadata": {
    "collapsed": false
   },
   "id": "897c900cdf4a09f1"
  },
  {
   "cell_type": "markdown",
   "source": [
    "$2.1.1$ $p$为素数，但$p$不在$P$中，这与$P$为素数集合矛盾。 "
   ],
   "metadata": {
    "collapsed": false
   },
   "id": "95db69ec3f50b90d"
  },
  {
   "cell_type": "markdown",
   "source": [
    "$3.$ 综上，假设不成立，不存在包含所有素数的集合，也就不存在最大素数。"
   ],
   "metadata": {
    "collapsed": false
   },
   "id": "d6e67549f3f59317"
  },
  {
   "cell_type": "code",
   "execution_count": 1,
   "outputs": [],
   "source": [],
   "metadata": {
    "collapsed": false,
    "ExecuteTime": {
     "end_time": "2023-10-02T02:20:17.915207700Z",
     "start_time": "2023-10-02T02:20:17.912016500Z"
    }
   },
   "id": "b4651bf68170794b"
  }
 ],
 "metadata": {
  "kernelspec": {
   "display_name": "Python 3 (ipykernel)",
   "language": "python",
   "name": "python3"
  },
  "language_info": {
   "codemirror_mode": {
    "name": "ipython",
    "version": 3
   },
   "file_extension": ".py",
   "mimetype": "text/x-python",
   "name": "python",
   "nbconvert_exporter": "python",
   "pygments_lexer": "ipython3",
   "version": "3.9.13"
  }
 },
 "nbformat": 4,
 "nbformat_minor": 5
}
