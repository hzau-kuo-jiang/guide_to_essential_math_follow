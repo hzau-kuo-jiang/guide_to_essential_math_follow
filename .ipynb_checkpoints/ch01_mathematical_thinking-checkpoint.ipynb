{
 "cells": [
  {
   "cell_type": "markdown",
   "source": [
    "## 1.2 Gauss and the Arithmetic Series"
   ],
   "metadata": {
    "collapsed": false
   },
   "id": "caed96d002cb1a30"
  },
  {
   "cell_type": "code",
   "execution_count": 1,
   "id": "initial_id",
   "metadata": {
    "collapsed": true,
    "ExecuteTime": {
     "end_time": "2023-10-01T17:31:57.767344Z",
     "start_time": "2023-10-01T17:31:57.636830700Z"
    }
   },
   "outputs": [],
   "source": [
    "def arithmetic_series_sum(a, l, n):\n",
    "    return (n / 2) * (a + l)"
   ]
  },
  {
   "cell_type": "code",
   "execution_count": 2,
   "outputs": [
    {
     "name": "stdout",
     "output_type": "stream",
     "text": [
      "5050.0\n"
     ]
    }
   ],
   "source": [
    "print(arithmetic_series_sum(1, 100, 100))"
   ],
   "metadata": {
    "collapsed": false,
    "ExecuteTime": {
     "end_time": "2023-10-01T17:31:57.768341200Z",
     "start_time": "2023-10-01T17:31:57.656831Z"
    }
   },
   "id": "96f04cca96fcb63c"
  },
  {
   "cell_type": "markdown",
   "source": [
    "Problem 1.2.1"
   ],
   "metadata": {
    "collapsed": false
   },
   "id": "a2d5516c3a6f462"
  },
  {
   "cell_type": "code",
   "execution_count": 3,
   "outputs": [
    {
     "name": "stdout",
     "output_type": "stream",
     "text": [
      "117.0\n"
     ]
    }
   ],
   "source": [
    "print(arithmetic_series_sum(1, 25, 9))"
   ],
   "metadata": {
    "collapsed": false,
    "ExecuteTime": {
     "end_time": "2023-10-01T17:31:57.769339200Z",
     "start_time": "2023-10-01T17:31:57.670829500Z"
    }
   },
   "id": "5d7a2d038e170831"
  },
  {
   "cell_type": "markdown",
   "source": [
    "## 1.4 Torus Area and Volume"
   ],
   "metadata": {
    "collapsed": false
   },
   "id": "e2727e71a45e4f3a"
  },
  {
   "cell_type": "code",
   "execution_count": 4,
   "outputs": [],
   "source": [
    "import math"
   ],
   "metadata": {
    "collapsed": false,
    "ExecuteTime": {
     "end_time": "2023-10-01T17:31:57.769339200Z",
     "start_time": "2023-10-01T17:31:57.685835800Z"
    }
   },
   "id": "d8bb1e6ed4a92048"
  },
  {
   "cell_type": "code",
   "execution_count": 5,
   "outputs": [],
   "source": [
    "def first_theorem_of_pappus(arc_length, centroid_distance):\n",
    "    return arc_length * centroid_distance"
   ],
   "metadata": {
    "collapsed": false,
    "ExecuteTime": {
     "end_time": "2023-10-01T17:31:57.769339200Z",
     "start_time": "2023-10-01T17:31:57.702831400Z"
    }
   },
   "id": "11d32615be72a199"
  },
  {
   "cell_type": "code",
   "execution_count": 6,
   "outputs": [],
   "source": [
    "def second_theorem_of_pappus(area, centroid_distance):\n",
    "    return area * centroid_distance"
   ],
   "metadata": {
    "collapsed": false,
    "ExecuteTime": {
     "end_time": "2023-10-01T17:31:57.769339200Z",
     "start_time": "2023-10-01T17:31:57.718836400Z"
    }
   },
   "id": "c0b64e86f3953fb4"
  },
  {
   "cell_type": "code",
   "execution_count": 7,
   "outputs": [],
   "source": [
    "def torus_area(inner_radius, outer_radius):\n",
    "    arc_length = 2 * math.pi * inner_radius\n",
    "    centroid_distance = 2 * math.pi * outer_radius\n",
    "    return first_theorem_of_pappus(arc_length, centroid_distance)"
   ],
   "metadata": {
    "collapsed": false,
    "ExecuteTime": {
     "end_time": "2023-10-01T17:31:57.770339700Z",
     "start_time": "2023-10-01T17:31:57.732343300Z"
    }
   },
   "id": "da46255f6e67bf1d"
  },
  {
   "cell_type": "code",
   "execution_count": 8,
   "outputs": [],
   "source": [
    "def torus_volume(inner_radius, outer_radius):\n",
    "    area = math.pi * inner_radius ** 2\n",
    "    centroid_distance = 2 * math.pi * outer_radius\n",
    "    return second_theorem_of_pappus(area, centroid_distance)"
   ],
   "metadata": {
    "collapsed": false,
    "ExecuteTime": {
     "end_time": "2023-10-01T17:31:57.770339700Z",
     "start_time": "2023-10-01T17:31:57.750342900Z"
    }
   },
   "id": "ed2acf5a3d18c8fe"
  },
  {
   "cell_type": "code",
   "execution_count": 9,
   "outputs": [
    {
     "name": "stdout",
     "output_type": "stream",
     "text": [
      "78.95683520871486\n"
     ]
    }
   ],
   "source": [
    "print(torus_area(1, 2))"
   ],
   "metadata": {
    "collapsed": false,
    "ExecuteTime": {
     "end_time": "2023-10-01T17:31:57.793340Z",
     "start_time": "2023-10-01T17:31:57.766344700Z"
    }
   },
   "id": "e2702e32a760e388"
  },
  {
   "cell_type": "code",
   "execution_count": 10,
   "outputs": [
    {
     "name": "stdout",
     "output_type": "stream",
     "text": [
      "39.47841760435743\n"
     ]
    }
   ],
   "source": [
    "print(torus_volume(1, 2))"
   ],
   "metadata": {
    "collapsed": false,
    "ExecuteTime": {
     "end_time": "2023-10-01T17:31:57.919437500Z",
     "start_time": "2023-10-01T17:31:57.781342300Z"
    }
   },
   "id": "40d9b40a0b06fdcd"
  },
  {
   "cell_type": "markdown",
   "source": [
    "## 1.5 Einstein's Velocity Addition Law"
   ],
   "metadata": {
    "collapsed": false
   },
   "id": "d3b8f30b76401014"
  },
  {
   "cell_type": "markdown",
   "source": [
    "V(v1,v2)=f(v1,v2)(v1+v2)\n",
    "\n",
    "---\n",
    "\n",
    "when v1=c, V(c,v2)=c\n",
    "\n",
    "f(c,v2)(c+v2)=c\n",
    "f(c,v2)=c/(c+v2)\n",
    "f(c,v2)=1/(1+v2/c)\n",
    "\n",
    "---\n",
    "\n",
    "when v2=c, V(v1,c)=c\n",
    "\n",
    "f(v1,c)(v1+c)=c\n",
    "f(v1,c)=c/(v1+c)\n",
    "f(v1,c)=1/(1+v1/c)\n",
    "\n",
    "---\n",
    "\n",
    "when v1=v2=c, V(c,c)=c\n",
    "\n",
    "f(c,c)(c+c)=c\n",
    "f(c,c)=c/(c+c)\n",
    "f(c,c)=1/(1+1)\n",
    "\n",
    "$f(c,c)(c+c)=c$\n",
    "\\begin{math}\n",
    "f(c,c)=\\frac{c}{c+c}\n",
    "\\end{math}\n",
    "\n",
    "<span style=\"color:red;font-size:1.5em;\">\n",
    "123\n",
    "\\begin{math}\n",
    "f(c,c)=\\frac{1}{1+1}\n",
    "\\end{math}\n",
    "</span>\n",
    "\n",
    "---\n",
    "\n",
    "so\n",
    "\n",
    "f(v1,v2)=1/(1+v1*v2/c^2)\n",
    "\n",
    "V(v1,v2)=(v1+v2)/(1+v1*v2/c^2)"
   ],
   "metadata": {
    "collapsed": false
   },
   "id": "a98dd93143b93e08"
  },
  {
   "cell_type": "markdown",
   "source": [
    "<span style=\"font-size: 150%;\">\\begin{math} f(c,c)=\\frac{1}{1+1} \\end{math}</span>"
   ],
   "metadata": {
    "collapsed": false
   },
   "id": "35364d27b39667a6"
  },
  {
   "cell_type": "markdown",
   "source": [
    "\\begin{math} f(c,c)=\\frac{1}{1+1} \\end{math}"
   ],
   "metadata": {
    "collapsed": false
   },
   "id": "8051e22ea00f491"
  },
  {
   "cell_type": "markdown",
   "source": [
    "## 1.6 The Birthday Problem"
   ],
   "metadata": {
    "collapsed": false
   },
   "id": "3203e853493e9e7d"
  },
  {
   "cell_type": "markdown",
   "source": [
    "one year has 366 days\n",
    "\n",
    "n people have 366^n combinations\n",
    "\n",
    "as many people as possible, have different birthdays\n",
    "\n",
    "first person has 366 choices (366-0)\n",
    "second person has 365 choices (366-1)\n",
    "...\n",
    "penultimate person has 366-n+2 choices (366-(n-2))\n",
    "last person has 366-n+1 choices (366-(n-1))\n",
    "\n",
    "total combinations = 366 * 365 * ... * (366-n+2) * (366-n+1)\n",
    "=(366 * 365 * ... * (366-n+2) * (366-n+1) * (366-n) * ... * 1) /( (366-n) * ... * 1)\n",
    "=366!/(366-n)!\n",
    "\n",
    "so\n",
    "\n",
    "\\begin{math}\n",
    "P(n)=1-\\frac{366!}{(366-n)!366^n}\n",
    "\\end{math}\n"
   ],
   "metadata": {
    "collapsed": false
   },
   "id": "2921ef7619a0c6a4"
  },
  {
   "cell_type": "code",
   "execution_count": 11,
   "outputs": [],
   "source": [
    "def birthday_problem(n):\n",
    "    return 1 - math.factorial(366) / math.factorial(366 - n) / 366 ** n"
   ],
   "metadata": {
    "collapsed": false,
    "ExecuteTime": {
     "end_time": "2023-10-01T17:31:57.933945Z",
     "start_time": "2023-10-01T17:31:57.797341300Z"
    }
   },
   "id": "8774a6dfe17aed91"
  },
  {
   "cell_type": "code",
   "execution_count": 12,
   "outputs": [
    {
     "name": "stdout",
     "output_type": "stream",
     "text": [
      "latest number of people is 23,to make the probability of two people having the same birthday is greater than 0.5\n"
     ]
    }
   ],
   "source": [
    "num = 1\n",
    "while birthday_problem(num) < 0.5:\n",
    "    num += 1\n",
    "print(\n",
    "    f'latest number of people is {num},to make the probability of two people having the same birthday is greater than 0.5')"
   ],
   "metadata": {
    "collapsed": false,
    "ExecuteTime": {
     "end_time": "2023-10-01T17:31:57.934944700Z",
     "start_time": "2023-10-01T17:31:57.813348700Z"
    }
   },
   "id": "ec055950076a5532"
  },
  {
   "cell_type": "markdown",
   "source": [
    "\\begin{math}\n",
    "P(n)=1-(366!/(366-n)!/366^n)\n",
    "\\end{math}\n"
   ],
   "metadata": {
    "collapsed": false
   },
   "id": "d917b04cc866c614"
  },
  {
   "cell_type": "code",
   "execution_count": 12,
   "outputs": [],
   "source": [],
   "metadata": {
    "collapsed": false,
    "ExecuteTime": {
     "end_time": "2023-10-01T17:31:57.935945300Z",
     "start_time": "2023-10-01T17:31:57.828858600Z"
    }
   },
   "id": "6c4bdf167c8952fc"
  }
 ],
 "metadata": {
  "kernelspec": {
   "display_name": "Python 3",
   "language": "python",
   "name": "python3"
  },
  "language_info": {
   "codemirror_mode": {
    "name": "ipython",
    "version": 2
   },
   "file_extension": ".py",
   "mimetype": "text/x-python",
   "name": "python",
   "nbconvert_exporter": "python",
   "pygments_lexer": "ipython2",
   "version": "2.7.6"
  }
 },
 "nbformat": 4,
 "nbformat_minor": 5
}
